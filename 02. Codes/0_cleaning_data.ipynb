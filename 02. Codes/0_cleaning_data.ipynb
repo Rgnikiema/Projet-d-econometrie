{
 "cells": [
  {
   "cell_type": "markdown",
   "id": "8b678a20",
   "metadata": {},
   "source": [
    "# Exercice d'économétrie"
   ]
  },
  {
   "cell_type": "markdown",
   "id": "385b44e5",
   "metadata": {},
   "source": [
    "## Netoyage des données"
   ]
  },
  {
   "cell_type": "markdown",
   "id": "7c3a1793",
   "metadata": {},
   "source": [
    "### Modules a installer"
   ]
  },
  {
   "cell_type": "code",
   "execution_count": 1,
   "id": "d0d36a38",
   "metadata": {
    "scrolled": false
   },
   "outputs": [
    {
     "name": "stdout",
     "output_type": "stream",
     "text": [
      "Requirement already satisfied: wbdata in c:\\users\\richa\\anaconda3\\lib\\site-packages (0.3.0)\n",
      "Requirement already satisfied: requests>=2.0 in c:\\users\\richa\\anaconda3\\lib\\site-packages (from wbdata) (2.28.1)\n",
      "Requirement already satisfied: decorator>=4.0 in c:\\users\\richa\\anaconda3\\lib\\site-packages (from wbdata) (5.1.1)\n",
      "Requirement already satisfied: appdirs<2.0,>=1.4 in c:\\users\\richa\\anaconda3\\lib\\site-packages (from wbdata) (1.4.4)\n",
      "Requirement already satisfied: tabulate>=0.8.5 in c:\\users\\richa\\anaconda3\\lib\\site-packages (from wbdata) (0.8.10)\n",
      "Requirement already satisfied: certifi>=2017.4.17 in c:\\users\\richa\\anaconda3\\lib\\site-packages (from requests>=2.0->wbdata) (2022.9.14)\n",
      "Requirement already satisfied: urllib3<1.27,>=1.21.1 in c:\\users\\richa\\anaconda3\\lib\\site-packages (from requests>=2.0->wbdata) (1.26.11)\n",
      "Requirement already satisfied: idna<4,>=2.5 in c:\\users\\richa\\anaconda3\\lib\\site-packages (from requests>=2.0->wbdata) (3.3)\n",
      "Requirement already satisfied: charset-normalizer<3,>=2 in c:\\users\\richa\\anaconda3\\lib\\site-packages (from requests>=2.0->wbdata) (2.0.4)\n",
      "Requirement already satisfied: country-converter in c:\\users\\richa\\anaconda3\\lib\\site-packages (0.8.0)\n",
      "Requirement already satisfied: pandas>=1.0 in c:\\users\\richa\\anaconda3\\lib\\site-packages (from country-converter) (1.4.4)\n",
      "Requirement already satisfied: pytz>=2020.1 in c:\\users\\richa\\anaconda3\\lib\\site-packages (from pandas>=1.0->country-converter) (2022.1)\n",
      "Requirement already satisfied: python-dateutil>=2.8.1 in c:\\users\\richa\\anaconda3\\lib\\site-packages (from pandas>=1.0->country-converter) (2.8.2)\n",
      "Requirement already satisfied: numpy>=1.18.5 in c:\\users\\richa\\anaconda3\\lib\\site-packages (from pandas>=1.0->country-converter) (1.21.5)\n",
      "Requirement already satisfied: six>=1.5 in c:\\users\\richa\\anaconda3\\lib\\site-packages (from python-dateutil>=2.8.1->pandas>=1.0->country-converter) (1.16.0)\n",
      "Requirement already satisfied: igraph in c:\\users\\richa\\anaconda3\\lib\\site-packages (0.10.3)\n",
      "Requirement already satisfied: texttable>=1.6.2 in c:\\users\\richa\\anaconda3\\lib\\site-packages (from igraph) (1.6.7)\n"
     ]
    }
   ],
   "source": [
    "!pip install wbdata\n",
    "!pip install country-converter\n",
    "!pip install igraph"
   ]
  },
  {
   "cell_type": "markdown",
   "id": "e1c07e16",
   "metadata": {},
   "source": [
    "### Importation "
   ]
  },
  {
   "cell_type": "code",
   "execution_count": 2,
   "id": "8efee282",
   "metadata": {},
   "outputs": [],
   "source": [
    "#Module pour la gestion de l'environnement de travail\n",
    "import os\n",
    "\n",
    "#Module pour la manipulation des données\n",
    "import pandas as pd\n",
    "\n",
    "#Module pour se connecter à l'API des bases de données de la banque mondiale\n",
    "import wbdata\n",
    "\n",
    "#Module pour manipulation de date\n",
    "import datetime\n",
    "\n",
    "#Module pour la conversion des ISO codes\n",
    "import country_converter as coco\n",
    "\n",
    "#Module pour manipulation de matice et calcule\n",
    "import numpy as np"
   ]
  },
  {
   "cell_type": "markdown",
   "id": "f8d28307",
   "metadata": {},
   "source": [
    "### Définition de l'environnement de travail"
   ]
  },
  {
   "cell_type": "code",
   "execution_count": 3,
   "id": "3326bcbb",
   "metadata": {
    "scrolled": true
   },
   "outputs": [],
   "source": [
    "Paths = {\"richm\"    : \"C://Users//richm//Dropbox//Projet d'économétrie\",\n",
    "         \"frans\"    : \"C://Users//frans//Dropbox//Projet d'économétrie\",\n",
    "         \"richa\"    : \"C://Users//richa//Dropbox//Projet d'économétrie\",\n",
    "         \"rgnikiea\" : \"//Users//rgnikiea//Dropbox//Projet d'économétrie\"}\n",
    "\n",
    "os.chdir(Paths[os.getlogin()])"
   ]
  },
  {
   "cell_type": "markdown",
   "id": "f5fe49ce",
   "metadata": {},
   "source": [
    "### Liste des indicateur a extraire du WDI"
   ]
  },
  {
   "cell_type": "code",
   "execution_count": 5,
   "id": "9610abff",
   "metadata": {},
   "outputs": [],
   "source": [
    "indicators = {\n",
    "              \"NY.GDP.MKTP.KD\": \"GDP\", # Gross Domestic Product\n",
    "              \"BX.KLT.DINV.WD.GD.ZS\":\"FDI\",\n",
    "              \"BX.TRF.PWKR.DT.GD.ZS\":\"Remit(% of GDP)\",\n",
    "              \"NY.GDP.MKTP.KD.ZG\":\"GDP growth (annual %)\",\n",
    "              \"FX.OWN.TOTL.MA.ZS\":\"own_acount \", #Account ownership at a financial institution or with a mobile-money-service provider, male (% of population ages 15+)\n",
    "              \"PX.REX.REER\":\"TCR\" , #Real effective exchange rate index (2010 = 100)\n",
    "              \"FR.INR.LEND\":\"lend_rate\", # Lending interest rate (%)\n",
    "              \"FM.LBL.BMNY.GD.ZS\": \"M2\", # Broad money (% of GDP)\n",
    "              \"FS.AST.PRVT.GD.ZS\" : \"Credit_priv\", # Credit to private sector \n",
    "              \"NE.TRD.GNFS.ZS\" : \"TRADE\", #Trade % PIB\n",
    "}"
   ]
  },
  {
   "cell_type": "markdown",
   "id": "8218bf0e",
   "metadata": {},
   "source": [
    "### Imporation de données contenant les noms des pays en developpement, leur régions et leurs groupe de revenu"
   ]
  },
  {
   "cell_type": "code",
   "execution_count": 6,
   "id": "d5f1bfd9",
   "metadata": {
    "scrolled": true
   },
   "outputs": [
    {
     "data": {
      "text/html": [
       "<div>\n",
       "<style scoped>\n",
       "    .dataframe tbody tr th:only-of-type {\n",
       "        vertical-align: middle;\n",
       "    }\n",
       "\n",
       "    .dataframe tbody tr th {\n",
       "        vertical-align: top;\n",
       "    }\n",
       "\n",
       "    .dataframe thead th {\n",
       "        text-align: right;\n",
       "    }\n",
       "</style>\n",
       "<table border=\"1\" class=\"dataframe\">\n",
       "  <thead>\n",
       "    <tr style=\"text-align: right;\">\n",
       "      <th></th>\n",
       "      <th>iso</th>\n",
       "      <th>Region</th>\n",
       "      <th>Income Group</th>\n",
       "    </tr>\n",
       "  </thead>\n",
       "  <tbody>\n",
       "    <tr>\n",
       "      <th>0</th>\n",
       "      <td>AFG</td>\n",
       "      <td>South Asia</td>\n",
       "      <td>Low income</td>\n",
       "    </tr>\n",
       "    <tr>\n",
       "      <th>1</th>\n",
       "      <td>ALB</td>\n",
       "      <td>Europe &amp; Central Asia</td>\n",
       "      <td>Upper middle income</td>\n",
       "    </tr>\n",
       "    <tr>\n",
       "      <th>2</th>\n",
       "      <td>DZA</td>\n",
       "      <td>Middle East &amp; North Africa</td>\n",
       "      <td>Lower middle income</td>\n",
       "    </tr>\n",
       "    <tr>\n",
       "      <th>3</th>\n",
       "      <td>ASM</td>\n",
       "      <td>East Asia &amp; Pacific</td>\n",
       "      <td>Upper middle income</td>\n",
       "    </tr>\n",
       "    <tr>\n",
       "      <th>5</th>\n",
       "      <td>AGO</td>\n",
       "      <td>Sub-Saharan Africa</td>\n",
       "      <td>Lower middle income</td>\n",
       "    </tr>\n",
       "  </tbody>\n",
       "</table>\n",
       "</div>"
      ],
      "text/plain": [
       "   iso                      Region         Income Group\n",
       "0  AFG                  South Asia           Low income\n",
       "1  ALB       Europe & Central Asia  Upper middle income\n",
       "2  DZA  Middle East & North Africa  Lower middle income\n",
       "3  ASM         East Asia & Pacific  Upper middle income\n",
       "5  AGO          Sub-Saharan Africa  Lower middle income"
      ]
     },
     "execution_count": 6,
     "metadata": {},
     "output_type": "execute_result"
    }
   ],
   "source": [
    "df = pd.read_excel(\"02. Data/Raw data//Countries_ids.xlsx\")\n",
    "df = df[df['Income Group'].isin(['Low income', 'Lower middle income', 'Upper middle income'])]\n",
    "df.drop(columns = \"Country name\", axis = 1, inplace = True)\n",
    "df.rename(columns = {'ISO 3166-1 alpha-3 country code':'iso'}, inplace=True)\n",
    "df.head()"
   ]
  },
  {
   "cell_type": "code",
   "execution_count": 7,
   "id": "fa9325c3",
   "metadata": {},
   "outputs": [],
   "source": [
    "maps = {\"KSV\":\"XKX\", \"TMP\":\"TLS\"}\n",
    "df[\"iso\"] = df.iso.replace(maps)\n",
    "iso = list(df.iloc[:,0])"
   ]
  },
  {
   "cell_type": "code",
   "execution_count": 8,
   "id": "c0d1ce8e",
   "metadata": {
    "scrolled": true
   },
   "outputs": [
    {
     "data": {
      "text/plain": [
       "array(['Low income', 'Upper middle income', 'Lower middle income'],\n",
       "      dtype=object)"
      ]
     },
     "execution_count": 8,
     "metadata": {},
     "output_type": "execute_result"
    }
   ],
   "source": [
    "df[\"Income Group\"].unique()"
   ]
  },
  {
   "cell_type": "code",
   "execution_count": 9,
   "id": "6c3b7418",
   "metadata": {},
   "outputs": [
    {
     "data": {
      "text/plain": [
       "137"
      ]
     },
     "execution_count": 9,
     "metadata": {},
     "output_type": "execute_result"
    }
   ],
   "source": [
    "df[\"iso\"].nunique()"
   ]
  },
  {
   "cell_type": "markdown",
   "id": "fcf38d80",
   "metadata": {},
   "source": [
    "### Configuration de la requete et extraction des données du WDI"
   ]
  },
  {
   "cell_type": "code",
   "execution_count": 10,
   "id": "1c7652de",
   "metadata": {},
   "outputs": [],
   "source": [
    "data_date = datetime.datetime(1990, 1, 1), datetime.datetime(2022, 1,1)"
   ]
  },
  {
   "cell_type": "code",
   "execution_count": 11,
   "id": "e1d2c579",
   "metadata": {
    "scrolled": true
   },
   "outputs": [
    {
     "data": {
      "text/html": [
       "<div>\n",
       "<style scoped>\n",
       "    .dataframe tbody tr th:only-of-type {\n",
       "        vertical-align: middle;\n",
       "    }\n",
       "\n",
       "    .dataframe tbody tr th {\n",
       "        vertical-align: top;\n",
       "    }\n",
       "\n",
       "    .dataframe thead th {\n",
       "        text-align: right;\n",
       "    }\n",
       "</style>\n",
       "<table border=\"1\" class=\"dataframe\">\n",
       "  <thead>\n",
       "    <tr style=\"text-align: right;\">\n",
       "      <th></th>\n",
       "      <th>country</th>\n",
       "      <th>date</th>\n",
       "      <th>GDP</th>\n",
       "      <th>FDI</th>\n",
       "      <th>Remit(% of GDP)</th>\n",
       "      <th>GDP growth (annual %)</th>\n",
       "      <th>own_acount</th>\n",
       "      <th>TCR</th>\n",
       "      <th>lend_rate</th>\n",
       "      <th>M2</th>\n",
       "      <th>Credit_priv</th>\n",
       "      <th>TRADE</th>\n",
       "    </tr>\n",
       "  </thead>\n",
       "  <tbody>\n",
       "    <tr>\n",
       "      <th>0</th>\n",
       "      <td>Afghanistan</td>\n",
       "      <td>2021</td>\n",
       "      <td>1.708357e+10</td>\n",
       "      <td>0.139319</td>\n",
       "      <td>NaN</td>\n",
       "      <td>-20.737146</td>\n",
       "      <td>14.79</td>\n",
       "      <td>NaN</td>\n",
       "      <td>NaN</td>\n",
       "      <td>NaN</td>\n",
       "      <td>NaN</td>\n",
       "      <td>NaN</td>\n",
       "    </tr>\n",
       "    <tr>\n",
       "      <th>1</th>\n",
       "      <td>Afghanistan</td>\n",
       "      <td>2020</td>\n",
       "      <td>2.155306e+10</td>\n",
       "      <td>0.064389</td>\n",
       "      <td>3.916496</td>\n",
       "      <td>-2.351101</td>\n",
       "      <td>NaN</td>\n",
       "      <td>NaN</td>\n",
       "      <td>NaN</td>\n",
       "      <td>37.209463</td>\n",
       "      <td>3.071936</td>\n",
       "      <td>NaN</td>\n",
       "    </tr>\n",
       "    <tr>\n",
       "      <th>2</th>\n",
       "      <td>Afghanistan</td>\n",
       "      <td>2019</td>\n",
       "      <td>2.207200e+10</td>\n",
       "      <td>0.123804</td>\n",
       "      <td>4.382937</td>\n",
       "      <td>3.911603</td>\n",
       "      <td>NaN</td>\n",
       "      <td>NaN</td>\n",
       "      <td>NaN</td>\n",
       "      <td>34.959214</td>\n",
       "      <td>3.229957</td>\n",
       "      <td>NaN</td>\n",
       "    </tr>\n",
       "    <tr>\n",
       "      <th>3</th>\n",
       "      <td>Afghanistan</td>\n",
       "      <td>2018</td>\n",
       "      <td>2.124113e+10</td>\n",
       "      <td>0.648440</td>\n",
       "      <td>4.362631</td>\n",
       "      <td>1.189228</td>\n",
       "      <td>NaN</td>\n",
       "      <td>NaN</td>\n",
       "      <td>NaN</td>\n",
       "      <td>36.607494</td>\n",
       "      <td>3.512317</td>\n",
       "      <td>NaN</td>\n",
       "    </tr>\n",
       "    <tr>\n",
       "      <th>4</th>\n",
       "      <td>Afghanistan</td>\n",
       "      <td>2017</td>\n",
       "      <td>2.099149e+10</td>\n",
       "      <td>0.272719</td>\n",
       "      <td>4.353918</td>\n",
       "      <td>2.647003</td>\n",
       "      <td>22.54</td>\n",
       "      <td>NaN</td>\n",
       "      <td>14.836667</td>\n",
       "      <td>36.861261</td>\n",
       "      <td>3.841881</td>\n",
       "      <td>NaN</td>\n",
       "    </tr>\n",
       "  </tbody>\n",
       "</table>\n",
       "</div>"
      ],
      "text/plain": [
       "       country  date           GDP       FDI  Remit(% of GDP)  \\\n",
       "0  Afghanistan  2021  1.708357e+10  0.139319              NaN   \n",
       "1  Afghanistan  2020  2.155306e+10  0.064389         3.916496   \n",
       "2  Afghanistan  2019  2.207200e+10  0.123804         4.382937   \n",
       "3  Afghanistan  2018  2.124113e+10  0.648440         4.362631   \n",
       "4  Afghanistan  2017  2.099149e+10  0.272719         4.353918   \n",
       "\n",
       "   GDP growth (annual %)  own_acount   TCR  lend_rate         M2  Credit_priv  \\\n",
       "0             -20.737146        14.79  NaN        NaN        NaN          NaN   \n",
       "1              -2.351101          NaN  NaN        NaN  37.209463     3.071936   \n",
       "2               3.911603          NaN  NaN        NaN  34.959214     3.229957   \n",
       "3               1.189228          NaN  NaN        NaN  36.607494     3.512317   \n",
       "4               2.647003        22.54  NaN  14.836667  36.861261     3.841881   \n",
       "\n",
       "   TRADE  \n",
       "0    NaN  \n",
       "1    NaN  \n",
       "2    NaN  \n",
       "3    NaN  \n",
       "4    NaN  "
      ]
     },
     "execution_count": 11,
     "metadata": {},
     "output_type": "execute_result"
    }
   ],
   "source": [
    "df2 = wbdata.get_dataframe(indicators, country = iso, data_date=data_date)\n",
    "df2.reset_index(inplace = True)\n",
    "df2.head()"
   ]
  },
  {
   "cell_type": "markdown",
   "id": "b64829b7",
   "metadata": {},
   "source": [
    "### Création des ISO code"
   ]
  },
  {
   "cell_type": "code",
   "execution_count": 12,
   "id": "7c9c4a92",
   "metadata": {},
   "outputs": [],
   "source": [
    "cntries = df2[\"country\"]\n",
    "ISO_3 = coco.convert(names=cntries, to='ISO3')\n",
    "df2[\"iso\"] = ISO_3"
   ]
  },
  {
   "cell_type": "markdown",
   "id": "a3c7b014",
   "metadata": {},
   "source": [
    "### Fusion des données du WDI et des données sur les groupes de revenus et des régions"
   ]
  },
  {
   "cell_type": "code",
   "execution_count": 13,
   "id": "79a5b5e6",
   "metadata": {},
   "outputs": [
    {
     "name": "stdout",
     "output_type": "stream",
     "text": [
      "<class 'wbdata.api.WBDataFrame'>\n",
      "Int64Index: 4384 entries, 0 to 4383\n",
      "Data columns (total 15 columns):\n",
      " #   Column                 Non-Null Count  Dtype  \n",
      "---  ------                 --------------  -----  \n",
      " 0   country                4384 non-null   object \n",
      " 1   year                   4384 non-null   int32  \n",
      " 2   GDP                    4149 non-null   float64\n",
      " 3   FDI                    3995 non-null   float64\n",
      " 4   Remit(% of GDP)        3617 non-null   float64\n",
      " 5   GDP growth (annual %)  4124 non-null   float64\n",
      " 6   own_acount             373 non-null    float64\n",
      " 7   TCR                    1604 non-null   float64\n",
      " 8   lend_rate              2723 non-null   float64\n",
      " 9   M2                     3650 non-null   float64\n",
      " 10  Credit_priv            3140 non-null   float64\n",
      " 11  TRADE                  3673 non-null   float64\n",
      " 12  iso                    4384 non-null   object \n",
      " 13  Region                 4384 non-null   object \n",
      " 14  Income Group           4384 non-null   object \n",
      "dtypes: float64(10), int32(1), object(4)\n",
      "memory usage: 530.9+ KB\n"
     ]
    },
    {
     "data": {
      "text/plain": [
       "None"
      ]
     },
     "metadata": {},
     "output_type": "display_data"
    },
    {
     "data": {
      "text/html": [
       "<div>\n",
       "<style scoped>\n",
       "    .dataframe tbody tr th:only-of-type {\n",
       "        vertical-align: middle;\n",
       "    }\n",
       "\n",
       "    .dataframe tbody tr th {\n",
       "        vertical-align: top;\n",
       "    }\n",
       "\n",
       "    .dataframe thead th {\n",
       "        text-align: right;\n",
       "    }\n",
       "</style>\n",
       "<table border=\"1\" class=\"dataframe\">\n",
       "  <thead>\n",
       "    <tr style=\"text-align: right;\">\n",
       "      <th></th>\n",
       "      <th>country</th>\n",
       "      <th>year</th>\n",
       "      <th>GDP</th>\n",
       "      <th>FDI</th>\n",
       "      <th>Remit(% of GDP)</th>\n",
       "      <th>GDP growth (annual %)</th>\n",
       "      <th>own_acount</th>\n",
       "      <th>TCR</th>\n",
       "      <th>lend_rate</th>\n",
       "      <th>M2</th>\n",
       "      <th>Credit_priv</th>\n",
       "      <th>TRADE</th>\n",
       "      <th>iso</th>\n",
       "      <th>Region</th>\n",
       "      <th>Income Group</th>\n",
       "    </tr>\n",
       "  </thead>\n",
       "  <tbody>\n",
       "    <tr>\n",
       "      <th>0</th>\n",
       "      <td>Afghanistan</td>\n",
       "      <td>2021</td>\n",
       "      <td>1.708357e+10</td>\n",
       "      <td>0.139319</td>\n",
       "      <td>NaN</td>\n",
       "      <td>-20.737146</td>\n",
       "      <td>14.79</td>\n",
       "      <td>NaN</td>\n",
       "      <td>NaN</td>\n",
       "      <td>NaN</td>\n",
       "      <td>NaN</td>\n",
       "      <td>NaN</td>\n",
       "      <td>AFG</td>\n",
       "      <td>South Asia</td>\n",
       "      <td>Low income</td>\n",
       "    </tr>\n",
       "    <tr>\n",
       "      <th>1</th>\n",
       "      <td>Afghanistan</td>\n",
       "      <td>2020</td>\n",
       "      <td>2.155306e+10</td>\n",
       "      <td>0.064389</td>\n",
       "      <td>3.916496</td>\n",
       "      <td>-2.351101</td>\n",
       "      <td>NaN</td>\n",
       "      <td>NaN</td>\n",
       "      <td>NaN</td>\n",
       "      <td>37.209463</td>\n",
       "      <td>3.071936</td>\n",
       "      <td>NaN</td>\n",
       "      <td>AFG</td>\n",
       "      <td>South Asia</td>\n",
       "      <td>Low income</td>\n",
       "    </tr>\n",
       "    <tr>\n",
       "      <th>2</th>\n",
       "      <td>Afghanistan</td>\n",
       "      <td>2019</td>\n",
       "      <td>2.207200e+10</td>\n",
       "      <td>0.123804</td>\n",
       "      <td>4.382937</td>\n",
       "      <td>3.911603</td>\n",
       "      <td>NaN</td>\n",
       "      <td>NaN</td>\n",
       "      <td>NaN</td>\n",
       "      <td>34.959214</td>\n",
       "      <td>3.229957</td>\n",
       "      <td>NaN</td>\n",
       "      <td>AFG</td>\n",
       "      <td>South Asia</td>\n",
       "      <td>Low income</td>\n",
       "    </tr>\n",
       "    <tr>\n",
       "      <th>3</th>\n",
       "      <td>Afghanistan</td>\n",
       "      <td>2018</td>\n",
       "      <td>2.124113e+10</td>\n",
       "      <td>0.648440</td>\n",
       "      <td>4.362631</td>\n",
       "      <td>1.189228</td>\n",
       "      <td>NaN</td>\n",
       "      <td>NaN</td>\n",
       "      <td>NaN</td>\n",
       "      <td>36.607494</td>\n",
       "      <td>3.512317</td>\n",
       "      <td>NaN</td>\n",
       "      <td>AFG</td>\n",
       "      <td>South Asia</td>\n",
       "      <td>Low income</td>\n",
       "    </tr>\n",
       "    <tr>\n",
       "      <th>4</th>\n",
       "      <td>Afghanistan</td>\n",
       "      <td>2017</td>\n",
       "      <td>2.099149e+10</td>\n",
       "      <td>0.272719</td>\n",
       "      <td>4.353918</td>\n",
       "      <td>2.647003</td>\n",
       "      <td>22.54</td>\n",
       "      <td>NaN</td>\n",
       "      <td>14.836667</td>\n",
       "      <td>36.861261</td>\n",
       "      <td>3.841881</td>\n",
       "      <td>NaN</td>\n",
       "      <td>AFG</td>\n",
       "      <td>South Asia</td>\n",
       "      <td>Low income</td>\n",
       "    </tr>\n",
       "  </tbody>\n",
       "</table>\n",
       "</div>"
      ],
      "text/plain": [
       "       country  year           GDP       FDI  Remit(% of GDP)  \\\n",
       "0  Afghanistan  2021  1.708357e+10  0.139319              NaN   \n",
       "1  Afghanistan  2020  2.155306e+10  0.064389         3.916496   \n",
       "2  Afghanistan  2019  2.207200e+10  0.123804         4.382937   \n",
       "3  Afghanistan  2018  2.124113e+10  0.648440         4.362631   \n",
       "4  Afghanistan  2017  2.099149e+10  0.272719         4.353918   \n",
       "\n",
       "   GDP growth (annual %)  own_acount   TCR  lend_rate         M2  Credit_priv  \\\n",
       "0             -20.737146        14.79  NaN        NaN        NaN          NaN   \n",
       "1              -2.351101          NaN  NaN        NaN  37.209463     3.071936   \n",
       "2               3.911603          NaN  NaN        NaN  34.959214     3.229957   \n",
       "3               1.189228          NaN  NaN        NaN  36.607494     3.512317   \n",
       "4               2.647003        22.54  NaN  14.836667  36.861261     3.841881   \n",
       "\n",
       "   TRADE  iso      Region Income Group  \n",
       "0    NaN  AFG  South Asia   Low income  \n",
       "1    NaN  AFG  South Asia   Low income  \n",
       "2    NaN  AFG  South Asia   Low income  \n",
       "3    NaN  AFG  South Asia   Low income  \n",
       "4    NaN  AFG  South Asia   Low income  "
      ]
     },
     "execution_count": 13,
     "metadata": {},
     "output_type": "execute_result"
    }
   ],
   "source": [
    "data = df2.merge(df, on = [\"iso\"])\n",
    "data.rename(columns = {\"date\":\"year\"}, inplace = True)\n",
    "data[\"year\"] = data.year.astype(\"int\")\n",
    "display(data.info())\n",
    "data.head()"
   ]
  },
  {
   "cell_type": "markdown",
   "id": "c0d0a4e2",
   "metadata": {},
   "source": [
    "### Ajout des données sur la stabilité du gouvernement "
   ]
  },
  {
   "cell_type": "code",
   "execution_count": 14,
   "id": "f6f8175a",
   "metadata": {
    "scrolled": true
   },
   "outputs": [
    {
     "data": {
      "text/html": [
       "<div>\n",
       "<style scoped>\n",
       "    .dataframe tbody tr th:only-of-type {\n",
       "        vertical-align: middle;\n",
       "    }\n",
       "\n",
       "    .dataframe tbody tr th {\n",
       "        vertical-align: top;\n",
       "    }\n",
       "\n",
       "    .dataframe thead th {\n",
       "        text-align: right;\n",
       "    }\n",
       "</style>\n",
       "<table border=\"1\" class=\"dataframe\">\n",
       "  <thead>\n",
       "    <tr style=\"text-align: right;\">\n",
       "      <th></th>\n",
       "      <th>iso</th>\n",
       "      <th>year</th>\n",
       "      <th>gov_stab</th>\n",
       "      <th>corup</th>\n",
       "    </tr>\n",
       "  </thead>\n",
       "  <tbody>\n",
       "    <tr>\n",
       "      <th>0</th>\n",
       "      <td>ALB</td>\n",
       "      <td>1984</td>\n",
       "      <td>4.833333</td>\n",
       "      <td>4</td>\n",
       "    </tr>\n",
       "    <tr>\n",
       "      <th>1</th>\n",
       "      <td>ALB</td>\n",
       "      <td>1985</td>\n",
       "      <td>6.666667</td>\n",
       "      <td>4</td>\n",
       "    </tr>\n",
       "    <tr>\n",
       "      <th>2</th>\n",
       "      <td>ALB</td>\n",
       "      <td>1986</td>\n",
       "      <td>7</td>\n",
       "      <td>4</td>\n",
       "    </tr>\n",
       "    <tr>\n",
       "      <th>3</th>\n",
       "      <td>ALB</td>\n",
       "      <td>1987</td>\n",
       "      <td>7</td>\n",
       "      <td>4</td>\n",
       "    </tr>\n",
       "    <tr>\n",
       "      <th>4</th>\n",
       "      <td>ALB</td>\n",
       "      <td>1988</td>\n",
       "      <td>7</td>\n",
       "      <td>4</td>\n",
       "    </tr>\n",
       "  </tbody>\n",
       "</table>\n",
       "</div>"
      ],
      "text/plain": [
       "   iso  year  gov_stab corup\n",
       "0  ALB  1984  4.833333     4\n",
       "1  ALB  1985  6.666667     4\n",
       "2  ALB  1986         7     4\n",
       "3  ALB  1987         7     4\n",
       "4  ALB  1988         7     4"
      ]
     },
     "execution_count": 14,
     "metadata": {},
     "output_type": "execute_result"
    }
   ],
   "source": [
    "df = pd.read_excel(\"02. Data/Raw data/icrg_database.xlsx\")\n",
    "df.rename(columns = {\"ccode\":\"iso\",\"A-Government Stability\":\"gov_stab\",\n",
    "                    'F-Corruption':'corup'}, inplace=True)\n",
    "df = df[[\"iso\", \"year\" , \"gov_stab\", \"corup\"]]\n",
    "df.head()"
   ]
  },
  {
   "cell_type": "code",
   "execution_count": 15,
   "id": "49c68808",
   "metadata": {
    "scrolled": false
   },
   "outputs": [
    {
     "name": "stdout",
     "output_type": "stream",
     "text": [
      "<class 'wbdata.api.WBDataFrame'>\n",
      "Int64Index: 4384 entries, 0 to 4383\n",
      "Data columns (total 17 columns):\n",
      " #   Column                 Non-Null Count  Dtype  \n",
      "---  ------                 --------------  -----  \n",
      " 0   country                4384 non-null   object \n",
      " 1   year                   4384 non-null   int32  \n",
      " 2   GDP                    4149 non-null   float64\n",
      " 3   FDI                    3995 non-null   float64\n",
      " 4   Remit(% of GDP)        3617 non-null   float64\n",
      " 5   GDP growth (annual %)  4124 non-null   float64\n",
      " 6   own_acount             373 non-null    float64\n",
      " 7   TCR                    1604 non-null   float64\n",
      " 8   lend_rate              2723 non-null   float64\n",
      " 9   M2                     3650 non-null   float64\n",
      " 10  Credit_priv            3140 non-null   float64\n",
      " 11  TRADE                  3673 non-null   float64\n",
      " 12  iso                    4384 non-null   object \n",
      " 13  Region                 4384 non-null   object \n",
      " 14  Income Group           4384 non-null   object \n",
      " 15  gov_stab               2453 non-null   object \n",
      " 16  corup                  2453 non-null   object \n",
      "dtypes: float64(10), int32(1), object(6)\n",
      "memory usage: 599.4+ KB\n"
     ]
    }
   ],
   "source": [
    "data = data.merge(df, on = [\"iso\", \"year\"], how = \"left\")\n",
    "display(data.info())\n",
    "data.head()"
   ]
  },
  {
   "cell_type": "markdown",
   "id": "bdfd1717",
   "metadata": {},
   "source": [
    "### Ajout des données sur l'inflation"
   ]
  },
  {
   "cell_type": "code",
   "execution_count": 16,
   "id": "84aace98",
   "metadata": {
    "scrolled": false
   },
   "outputs": [
    {
     "data": {
      "text/html": [
       "<div>\n",
       "<style scoped>\n",
       "    .dataframe tbody tr th:only-of-type {\n",
       "        vertical-align: middle;\n",
       "    }\n",
       "\n",
       "    .dataframe tbody tr th {\n",
       "        vertical-align: top;\n",
       "    }\n",
       "\n",
       "    .dataframe thead th {\n",
       "        text-align: right;\n",
       "    }\n",
       "</style>\n",
       "<table border=\"1\" class=\"dataframe\">\n",
       "  <thead>\n",
       "    <tr style=\"text-align: right;\">\n",
       "      <th></th>\n",
       "      <th>iso</th>\n",
       "      <th>year</th>\n",
       "      <th>inf</th>\n",
       "    </tr>\n",
       "  </thead>\n",
       "  <tbody>\n",
       "    <tr>\n",
       "      <th>0</th>\n",
       "      <td>AFG</td>\n",
       "      <td>1980</td>\n",
       "      <td>NaN</td>\n",
       "    </tr>\n",
       "    <tr>\n",
       "      <th>1</th>\n",
       "      <td>ALB</td>\n",
       "      <td>1980</td>\n",
       "      <td>NaN</td>\n",
       "    </tr>\n",
       "    <tr>\n",
       "      <th>2</th>\n",
       "      <td>DZA</td>\n",
       "      <td>1980</td>\n",
       "      <td>9.668</td>\n",
       "    </tr>\n",
       "    <tr>\n",
       "      <th>3</th>\n",
       "      <td>AND</td>\n",
       "      <td>1980</td>\n",
       "      <td>NaN</td>\n",
       "    </tr>\n",
       "    <tr>\n",
       "      <th>4</th>\n",
       "      <td>AGO</td>\n",
       "      <td>1980</td>\n",
       "      <td>46.708</td>\n",
       "    </tr>\n",
       "  </tbody>\n",
       "</table>\n",
       "</div>"
      ],
      "text/plain": [
       "   iso  year     inf\n",
       "0  AFG  1980     NaN\n",
       "1  ALB  1980     NaN\n",
       "2  DZA  1980   9.668\n",
       "3  AND  1980     NaN\n",
       "4  AGO  1980  46.708"
      ]
     },
     "execution_count": 16,
     "metadata": {},
     "output_type": "execute_result"
    }
   ],
   "source": [
    "df = pd.read_excel(\"02. Data/Raw data/weo_database_inflation.xlsx\")\n",
    "df.drop(columns =  ['WEO Country Code', 'WEO Subject Code', 'Country','Subject Descriptor', 'Subject Notes', 'Units', 'Scale'], inplace =True )\n",
    "df = df.melt(id_vars = 'ISO', var_name = \"year\", value_name= \"inf\")\n",
    "df[\"year\"] = df[\"year\"].str.replace(\"y\",\"\").astype(\"int\")\n",
    "df[\"inf\"]  = pd.to_numeric(df['inf'], errors='coerce')\n",
    "df.rename(columns = {\"ISO\":\"iso\"}, inplace = True)\n",
    "df.head()"
   ]
  },
  {
   "cell_type": "code",
   "execution_count": 17,
   "id": "50bd8dd0",
   "metadata": {
    "scrolled": false
   },
   "outputs": [
    {
     "name": "stdout",
     "output_type": "stream",
     "text": [
      "<class 'wbdata.api.WBDataFrame'>\n",
      "Int64Index: 4384 entries, 0 to 4383\n",
      "Data columns (total 18 columns):\n",
      " #   Column                 Non-Null Count  Dtype  \n",
      "---  ------                 --------------  -----  \n",
      " 0   country                4384 non-null   object \n",
      " 1   year                   4384 non-null   int32  \n",
      " 2   GDP                    4149 non-null   float64\n",
      " 3   FDI                    3995 non-null   float64\n",
      " 4   Remit(% of GDP)        3617 non-null   float64\n",
      " 5   GDP growth (annual %)  4124 non-null   float64\n",
      " 6   own_acount             373 non-null    float64\n",
      " 7   TCR                    1604 non-null   float64\n",
      " 8   lend_rate              2723 non-null   float64\n",
      " 9   M2                     3650 non-null   float64\n",
      " 10  Credit_priv            3140 non-null   float64\n",
      " 11  TRADE                  3673 non-null   float64\n",
      " 12  iso                    4384 non-null   object \n",
      " 13  Region                 4384 non-null   object \n",
      " 14  Income Group           4384 non-null   object \n",
      " 15  gov_stab               2453 non-null   object \n",
      " 16  corup                  2453 non-null   object \n",
      " 17  inf                    3828 non-null   float64\n",
      "dtypes: float64(11), int32(1), object(6)\n",
      "memory usage: 633.6+ KB\n"
     ]
    }
   ],
   "source": [
    "data = data.merge(df, on = [\"iso\", \"year\"], how = \"left\")\n",
    "display(data.info())\n",
    "data.head()"
   ]
  },
  {
   "cell_type": "markdown",
   "id": "5ed2b7ba",
   "metadata": {},
   "source": [
    "### Ajout des données sur l'ouverture du capital"
   ]
  },
  {
   "cell_type": "code",
   "execution_count": 20,
   "id": "33a2627e",
   "metadata": {
    "scrolled": false
   },
   "outputs": [
    {
     "data": {
      "text/html": [
       "<div>\n",
       "<style scoped>\n",
       "    .dataframe tbody tr th:only-of-type {\n",
       "        vertical-align: middle;\n",
       "    }\n",
       "\n",
       "    .dataframe tbody tr th {\n",
       "        vertical-align: top;\n",
       "    }\n",
       "\n",
       "    .dataframe thead th {\n",
       "        text-align: right;\n",
       "    }\n",
       "</style>\n",
       "<table border=\"1\" class=\"dataframe\">\n",
       "  <thead>\n",
       "    <tr style=\"text-align: right;\">\n",
       "      <th></th>\n",
       "      <th>iso</th>\n",
       "      <th>year</th>\n",
       "      <th>ka_open</th>\n",
       "    </tr>\n",
       "  </thead>\n",
       "  <tbody>\n",
       "    <tr>\n",
       "      <th>0</th>\n",
       "      <td>USA</td>\n",
       "      <td>1970</td>\n",
       "      <td>1.0</td>\n",
       "    </tr>\n",
       "    <tr>\n",
       "      <th>1</th>\n",
       "      <td>USA</td>\n",
       "      <td>1971</td>\n",
       "      <td>1.0</td>\n",
       "    </tr>\n",
       "    <tr>\n",
       "      <th>2</th>\n",
       "      <td>USA</td>\n",
       "      <td>1972</td>\n",
       "      <td>1.0</td>\n",
       "    </tr>\n",
       "    <tr>\n",
       "      <th>3</th>\n",
       "      <td>USA</td>\n",
       "      <td>1973</td>\n",
       "      <td>1.0</td>\n",
       "    </tr>\n",
       "    <tr>\n",
       "      <th>4</th>\n",
       "      <td>USA</td>\n",
       "      <td>1974</td>\n",
       "      <td>1.0</td>\n",
       "    </tr>\n",
       "  </tbody>\n",
       "</table>\n",
       "</div>"
      ],
      "text/plain": [
       "   iso  year  ka_open\n",
       "0  USA  1970      1.0\n",
       "1  USA  1971      1.0\n",
       "2  USA  1972      1.0\n",
       "3  USA  1973      1.0\n",
       "4  USA  1974      1.0"
      ]
     },
     "execution_count": 20,
     "metadata": {},
     "output_type": "execute_result"
    }
   ],
   "source": [
    "df = pd.read_stata(\"02. Data/Raw data/capital_openess_database.dta\")\n",
    "df.rename(columns = {\"ccode\":\"iso\"}, inplace = True)\n",
    "df  = df[[\"iso\", \"year\", \"ka_open\"]]\n",
    "df.head()"
   ]
  },
  {
   "cell_type": "code",
   "execution_count": 21,
   "id": "8d73286b",
   "metadata": {
    "scrolled": false
   },
   "outputs": [
    {
     "name": "stdout",
     "output_type": "stream",
     "text": [
      "<class 'wbdata.api.WBDataFrame'>\n",
      "Int64Index: 4384 entries, 0 to 4383\n",
      "Data columns (total 20 columns):\n",
      " #   Column                 Non-Null Count  Dtype  \n",
      "---  ------                 --------------  -----  \n",
      " 0   country                4384 non-null   object \n",
      " 1   year                   4384 non-null   int32  \n",
      " 2   GDP                    4149 non-null   float64\n",
      " 3   FDI                    3995 non-null   float64\n",
      " 4   Remit(% of GDP)        3617 non-null   float64\n",
      " 5   GDP growth (annual %)  4124 non-null   float64\n",
      " 6   own_acount             373 non-null    float64\n",
      " 7   TCR                    1604 non-null   float64\n",
      " 8   lend_rate              2723 non-null   float64\n",
      " 9   M2                     3650 non-null   float64\n",
      " 10  Credit_priv            3140 non-null   float64\n",
      " 11  TRADE                  3673 non-null   float64\n",
      " 12  iso                    4384 non-null   object \n",
      " 13  Region                 4384 non-null   object \n",
      " 14  Income Group           4384 non-null   object \n",
      " 15  gov_stab               2453 non-null   object \n",
      " 16  corup                  2453 non-null   object \n",
      " 17  inf                    3828 non-null   float64\n",
      " 18  p_gap                  3638 non-null   float64\n",
      " 19  ka_open                3633 non-null   float32\n",
      "dtypes: float32(1), float64(12), int32(1), object(6)\n",
      "memory usage: 685.0+ KB\n"
     ]
    }
   ],
   "source": [
    "data = data.merge(df, on = [\"iso\", \"year\"], how = \"left\")\n",
    "data.info()"
   ]
  },
  {
   "cell_type": "markdown",
   "id": "0c5e396a",
   "metadata": {},
   "source": [
    "### Ajout des données sur le developpement financier"
   ]
  },
  {
   "cell_type": "code",
   "execution_count": 22,
   "id": "168b3064",
   "metadata": {
    "scrolled": true
   },
   "outputs": [
    {
     "data": {
      "text/html": [
       "<div>\n",
       "<style scoped>\n",
       "    .dataframe tbody tr th:only-of-type {\n",
       "        vertical-align: middle;\n",
       "    }\n",
       "\n",
       "    .dataframe tbody tr th {\n",
       "        vertical-align: top;\n",
       "    }\n",
       "\n",
       "    .dataframe thead th {\n",
       "        text-align: right;\n",
       "    }\n",
       "</style>\n",
       "<table border=\"1\" class=\"dataframe\">\n",
       "  <thead>\n",
       "    <tr style=\"text-align: right;\">\n",
       "      <th></th>\n",
       "      <th>iso</th>\n",
       "      <th>year</th>\n",
       "      <th>FD</th>\n",
       "    </tr>\n",
       "  </thead>\n",
       "  <tbody>\n",
       "    <tr>\n",
       "      <th>0</th>\n",
       "      <td>ABW</td>\n",
       "      <td>2020</td>\n",
       "      <td>0.291232</td>\n",
       "    </tr>\n",
       "    <tr>\n",
       "      <th>1</th>\n",
       "      <td>ABW</td>\n",
       "      <td>2019</td>\n",
       "      <td>0.289913</td>\n",
       "    </tr>\n",
       "    <tr>\n",
       "      <th>2</th>\n",
       "      <td>ABW</td>\n",
       "      <td>2018</td>\n",
       "      <td>0.293785</td>\n",
       "    </tr>\n",
       "    <tr>\n",
       "      <th>3</th>\n",
       "      <td>ABW</td>\n",
       "      <td>2017</td>\n",
       "      <td>0.294828</td>\n",
       "    </tr>\n",
       "    <tr>\n",
       "      <th>4</th>\n",
       "      <td>ABW</td>\n",
       "      <td>2016</td>\n",
       "      <td>0.298656</td>\n",
       "    </tr>\n",
       "  </tbody>\n",
       "</table>\n",
       "</div>"
      ],
      "text/plain": [
       "   iso  year        FD\n",
       "0  ABW  2020  0.291232\n",
       "1  ABW  2019  0.289913\n",
       "2  ABW  2018  0.293785\n",
       "3  ABW  2017  0.294828\n",
       "4  ABW  2016  0.298656"
      ]
     },
     "execution_count": 22,
     "metadata": {},
     "output_type": "execute_result"
    }
   ],
   "source": [
    "df = pd.read_excel(\"02. Data/Raw data/FD_Index_Database.xlsx\")\n",
    "df = df[[\"code\", \"year\", \"FD\"]]\n",
    "df.rename(columns = {\"code\":\"iso\"}, inplace = True)\n",
    "df.head()"
   ]
  },
  {
   "cell_type": "code",
   "execution_count": 23,
   "id": "7e193de0",
   "metadata": {
    "scrolled": false
   },
   "outputs": [
    {
     "name": "stdout",
     "output_type": "stream",
     "text": [
      "<class 'wbdata.api.WBDataFrame'>\n",
      "Int64Index: 4384 entries, 0 to 4383\n",
      "Data columns (total 21 columns):\n",
      " #   Column                 Non-Null Count  Dtype  \n",
      "---  ------                 --------------  -----  \n",
      " 0   country                4384 non-null   object \n",
      " 1   year                   4384 non-null   int32  \n",
      " 2   GDP                    4149 non-null   float64\n",
      " 3   FDI                    3995 non-null   float64\n",
      " 4   Remit(% of GDP)        3617 non-null   float64\n",
      " 5   GDP growth (annual %)  4124 non-null   float64\n",
      " 6   own_acount             373 non-null    float64\n",
      " 7   TCR                    1604 non-null   float64\n",
      " 8   lend_rate              2723 non-null   float64\n",
      " 9   M2                     3650 non-null   float64\n",
      " 10  Credit_priv            3140 non-null   float64\n",
      " 11  TRADE                  3673 non-null   float64\n",
      " 12  iso                    4384 non-null   object \n",
      " 13  Region                 4384 non-null   object \n",
      " 14  Income Group           4384 non-null   object \n",
      " 15  gov_stab               2453 non-null   object \n",
      " 16  corup                  2453 non-null   object \n",
      " 17  inf                    3828 non-null   float64\n",
      " 18  p_gap                  3638 non-null   float64\n",
      " 19  ka_open                3633 non-null   float32\n",
      " 20  FD                     3906 non-null   float64\n",
      "dtypes: float32(1), float64(13), int32(1), object(6)\n",
      "memory usage: 719.2+ KB\n"
     ]
    }
   ],
   "source": [
    "data = data.merge(df, on = [\"iso\", \"year\"], how = \"left\")\n",
    "data.info()"
   ]
  },
  {
   "cell_type": "markdown",
   "id": "7dbf15bf",
   "metadata": {},
   "source": [
    "### Enregistrement des données"
   ]
  },
  {
   "cell_type": "code",
   "execution_count": 25,
   "id": "1b6dee2a",
   "metadata": {},
   "outputs": [],
   "source": [
    "data.columns = data.columns.str.lower()"
   ]
  },
  {
   "cell_type": "code",
   "execution_count": 32,
   "id": "cef576d9",
   "metadata": {},
   "outputs": [],
   "source": [
    "file_name = \"02. Data/Cleaned data/Database.xlsx\" \n",
    "data.to_excel(file_name)"
   ]
  },
  {
   "cell_type": "code",
   "execution_count": 33,
   "id": "88517123",
   "metadata": {},
   "outputs": [],
   "source": [
    "file_name = \"02. Data/Cleaned data/Database.csv\" \n",
    "data.to_csv(file_name)"
   ]
  }
 ],
 "metadata": {
  "kernelspec": {
   "display_name": "Python 3 (ipykernel)",
   "language": "python",
   "name": "python3"
  },
  "language_info": {
   "codemirror_mode": {
    "name": "ipython",
    "version": 3
   },
   "file_extension": ".py",
   "mimetype": "text/x-python",
   "name": "python",
   "nbconvert_exporter": "python",
   "pygments_lexer": "ipython3",
   "version": "3.9.13"
  }
 },
 "nbformat": 4,
 "nbformat_minor": 5
}
